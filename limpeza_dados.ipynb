{
 "cells": [
  {
   "cell_type": "code",
   "execution_count": 18,
   "metadata": {},
   "outputs": [],
   "source": [
    "import pandas as pd"
   ]
  },
  {
   "cell_type": "code",
   "execution_count": 30,
   "metadata": {},
   "outputs": [],
   "source": [
    "datasheet = pd.read_csv('despesa_ceaps_2022.csv', encoding='latin-1', sep = ';',header=[1,1])"
   ]
  },
  {
   "cell_type": "code",
   "execution_count": 33,
   "metadata": {},
   "outputs": [
    {
     "name": "stdout",
     "output_type": "stream",
     "text": [
      "    ANO MES       SENADOR                                       TIPO_DESPESA  \\\n",
      "    ANO MES       SENADOR                                       TIPO_DESPESA   \n",
      "0  2022   1  ACIR GURGACZ  Aluguel de imóveis para escritório político, c...   \n",
      "1  2022   1  ACIR GURGACZ                Divulgação da atividade parlamentar   \n",
      "2  2022   1  ACIR GURGACZ                Divulgação da atividade parlamentar   \n",
      "3  2022   1  ACIR GURGACZ                Divulgação da atividade parlamentar   \n",
      "4  2022   1  ACIR GURGACZ                Divulgação da atividade parlamentar   \n",
      "\n",
      "             CNPJ_CPF                                         FORNECEDOR  \\\n",
      "             CNPJ_CPF                                         FORNECEDOR   \n",
      "0      004.948.028-63                      GILBERTO PISELO DO NASCIMENTO   \n",
      "1  26.320.603/0001-64                                      INFORMANAHORA   \n",
      "2  13.659.201/0001-47                    LINHA PURPURA FOTO E VIDEO LTDA   \n",
      "3  23.652.846/0001-01                  ROBERTO GUTIERREZ DA ROCHA M.E.I.   \n",
      "4  08.941.827/0001-01  RONDONIA DINÂMICA COM. E SERV. DE INFORMÁTICA ...   \n",
      "\n",
      "           DOCUMENTO        DATA  \\\n",
      "           DOCUMENTO        DATA   \n",
      "0             001/22  03/01/2022   \n",
      "1  000000000000310/A  04/01/2022   \n",
      "2                107  14/01/2022   \n",
      "3                187  18/01/2022   \n",
      "4  000000000001772/A  17/01/2022   \n",
      "\n",
      "                                        DETALHAMENTO VALOR_REEMBOLSADO  \\\n",
      "                                        DETALHAMENTO VALOR_REEMBOLSADO   \n",
      "0  Despesa com pagamento de aluguel de imóvel par...              6000   \n",
      "1  Despesa com divulgação da atividade parlamenta...              1500   \n",
      "2  Despesa com produção de texto e edição de víde...              6000   \n",
      "3                Divulgação da atividade parlamentar              1000   \n",
      "4                Divulgação da atividade parlamentar              2000   \n",
      "\n",
      "  COD_DOCUMENTO  \n",
      "  COD_DOCUMENTO  \n",
      "0       2173614  \n",
      "1       2173615  \n",
      "2       2173616  \n",
      "3       2173618  \n",
      "4       2173617  \n"
     ]
    }
   ],
   "source": [
    "print(datasheet.head())  # Exibir as primeiras linhas do DataFrame"
   ]
  },
  {
   "cell_type": "code",
   "execution_count": 34,
   "metadata": {},
   "outputs": [
    {
     "name": "stdout",
     "output_type": "stream",
     "text": [
      "<class 'pandas.core.frame.DataFrame'>\n",
      "RangeIndex: 16782 entries, 0 to 16781\n",
      "Data columns (total 11 columns):\n",
      " #   Column                                  Non-Null Count  Dtype \n",
      "---  ------                                  --------------  ----- \n",
      " 0   (ANO, ANO)                              16782 non-null  int64 \n",
      " 1   (MES, MES)                              16782 non-null  int64 \n",
      " 2   (SENADOR, SENADOR)                      16782 non-null  object\n",
      " 3   (TIPO_DESPESA, TIPO_DESPESA)            16782 non-null  object\n",
      " 4   (CNPJ_CPF, CNPJ_CPF)                    16782 non-null  object\n",
      " 5   (FORNECEDOR, FORNECEDOR)                16782 non-null  object\n",
      " 6   (DOCUMENTO, DOCUMENTO)                  15848 non-null  object\n",
      " 7   (DATA, DATA)                            16782 non-null  object\n",
      " 8   (DETALHAMENTO, DETALHAMENTO)            9062 non-null   object\n",
      " 9   (VALOR_REEMBOLSADO, VALOR_REEMBOLSADO)  16782 non-null  object\n",
      " 10  (COD_DOCUMENTO, COD_DOCUMENTO)          16782 non-null  int64 \n",
      "dtypes: int64(3), object(8)\n",
      "memory usage: 1.4+ MB\n",
      "None\n"
     ]
    }
   ],
   "source": [
    "print(datasheet.info())  # Informações sobre o DataFrame (tipos de dados, valores não nulos, etc.)"
   ]
  },
  {
   "cell_type": "code",
   "execution_count": 35,
   "metadata": {},
   "outputs": [
    {
     "name": "stdout",
     "output_type": "stream",
     "text": [
      "           ANO           MES COD_DOCUMENTO\n",
      "           ANO           MES COD_DOCUMENTO\n",
      "count  16782.0  16782.000000  1.678200e+04\n",
      "mean    2022.0      6.258372  2.183257e+06\n",
      "std        0.0      3.302406  5.745640e+03\n",
      "min     2022.0      1.000000  2.172906e+06\n",
      "25%     2022.0      3.000000  2.178410e+06\n",
      "50%     2022.0      6.000000  2.183250e+06\n",
      "75%     2022.0      9.000000  2.188074e+06\n",
      "max     2022.0     12.000000  2.198297e+06\n"
     ]
    }
   ],
   "source": [
    "print(datasheet.describe())  # Resumo estatístico dos dados numéricos"
   ]
  },
  {
   "cell_type": "code",
   "execution_count": 36,
   "metadata": {},
   "outputs": [],
   "source": [
    "header = ['ANO','MES','SENADOR','TIPO_DESPESA','CNPJ_CPF','FORNECEDOR','DOCUMENTO','DATA','DETALHAMENTO','VALOR_REEMBOLSADO','COD_DOCUMENTO']\n",
    "datasheet.columns = header"
   ]
  },
  {
   "cell_type": "code",
   "execution_count": 37,
   "metadata": {},
   "outputs": [],
   "source": [
    "# Alterando tipo da coluna 'DATA'\n",
    "datasheet['DATA'] = pd.to_datetime(datasheet['DATA'], format='%d/%m/%Y')"
   ]
  },
  {
   "cell_type": "code",
   "execution_count": 38,
   "metadata": {},
   "outputs": [],
   "source": [
    "# Apagando coluna 'ANO' pois é desnecessária\n",
    "datasheet.drop('ANO', axis=1, inplace = True)"
   ]
  },
  {
   "cell_type": "code",
   "execution_count": 39,
   "metadata": {},
   "outputs": [
    {
     "name": "stdout",
     "output_type": "stream",
     "text": [
      "MES                     0\n",
      "SENADOR                 0\n",
      "TIPO_DESPESA            0\n",
      "CNPJ_CPF                0\n",
      "FORNECEDOR              0\n",
      "DOCUMENTO             934\n",
      "DATA                    0\n",
      "DETALHAMENTO         7720\n",
      "VALOR_REEMBOLSADO       0\n",
      "COD_DOCUMENTO           0\n",
      "dtype: int64\n"
     ]
    }
   ],
   "source": [
    "# Procurando e eliminando linhas com valores NULL\n",
    "print(datasheet.isnull().sum())\n",
    "datasheet = datasheet.dropna()"
   ]
  },
  {
   "cell_type": "code",
   "execution_count": 40,
   "metadata": {},
   "outputs": [],
   "source": [
    "# Formatando strings\n",
    "datasheet['SENADOR'] = datasheet['SENADOR'].str.upper()\n",
    "datasheet['FORNECEDOR'] = datasheet['FORNECEDOR'].str.upper()\n",
    "datasheet['TIPO_DESPESA'] = datasheet['TIPO_DESPESA'].str.lower()\n",
    "datasheet['DETALHAMENTO'] = datasheet['DETALHAMENTO'].str.lower()\n"
   ]
  },
  {
   "cell_type": "code",
   "execution_count": 44,
   "metadata": {},
   "outputs": [
    {
     "data": {
      "text/html": [
       "<div>\n",
       "<style scoped>\n",
       "    .dataframe tbody tr th:only-of-type {\n",
       "        vertical-align: middle;\n",
       "    }\n",
       "\n",
       "    .dataframe tbody tr th {\n",
       "        vertical-align: top;\n",
       "    }\n",
       "\n",
       "    .dataframe thead th {\n",
       "        text-align: right;\n",
       "    }\n",
       "</style>\n",
       "<table border=\"1\" class=\"dataframe\">\n",
       "  <thead>\n",
       "    <tr style=\"text-align: right;\">\n",
       "      <th></th>\n",
       "      <th>MES</th>\n",
       "      <th>SENADOR</th>\n",
       "      <th>TIPO_DESPESA</th>\n",
       "      <th>CNPJ_CPF</th>\n",
       "      <th>FORNECEDOR</th>\n",
       "      <th>DOCUMENTO</th>\n",
       "      <th>DATA</th>\n",
       "      <th>DETALHAMENTO</th>\n",
       "      <th>VALOR_REEMBOLSADO</th>\n",
       "      <th>COD_DOCUMENTO</th>\n",
       "    </tr>\n",
       "  </thead>\n",
       "  <tbody>\n",
       "    <tr>\n",
       "      <th>0</th>\n",
       "      <td>1</td>\n",
       "      <td>ACIR GURGACZ</td>\n",
       "      <td>aluguel de imóveis para escritório político, c...</td>\n",
       "      <td>004.948.028-63</td>\n",
       "      <td>GILBERTO PISELO DO NASCIMENTO</td>\n",
       "      <td>001/22</td>\n",
       "      <td>2022-01-03</td>\n",
       "      <td>despesa com pagamento de aluguel de imóvel par...</td>\n",
       "      <td>6000</td>\n",
       "      <td>2173614</td>\n",
       "    </tr>\n",
       "    <tr>\n",
       "      <th>1</th>\n",
       "      <td>1</td>\n",
       "      <td>ACIR GURGACZ</td>\n",
       "      <td>divulgação da atividade parlamentar</td>\n",
       "      <td>26.320.603/0001-64</td>\n",
       "      <td>INFORMANAHORA</td>\n",
       "      <td>000000000000310/A</td>\n",
       "      <td>2022-01-04</td>\n",
       "      <td>despesa com divulgação da atividade parlamenta...</td>\n",
       "      <td>1500</td>\n",
       "      <td>2173615</td>\n",
       "    </tr>\n",
       "    <tr>\n",
       "      <th>2</th>\n",
       "      <td>1</td>\n",
       "      <td>ACIR GURGACZ</td>\n",
       "      <td>divulgação da atividade parlamentar</td>\n",
       "      <td>13.659.201/0001-47</td>\n",
       "      <td>LINHA PURPURA FOTO E VIDEO LTDA</td>\n",
       "      <td>107</td>\n",
       "      <td>2022-01-14</td>\n",
       "      <td>despesa com produção de texto e edição de víde...</td>\n",
       "      <td>6000</td>\n",
       "      <td>2173616</td>\n",
       "    </tr>\n",
       "    <tr>\n",
       "      <th>3</th>\n",
       "      <td>1</td>\n",
       "      <td>ACIR GURGACZ</td>\n",
       "      <td>divulgação da atividade parlamentar</td>\n",
       "      <td>23.652.846/0001-01</td>\n",
       "      <td>ROBERTO GUTIERREZ DA ROCHA M.E.I.</td>\n",
       "      <td>187</td>\n",
       "      <td>2022-01-18</td>\n",
       "      <td>divulgação da atividade parlamentar</td>\n",
       "      <td>1000</td>\n",
       "      <td>2173618</td>\n",
       "    </tr>\n",
       "    <tr>\n",
       "      <th>4</th>\n",
       "      <td>1</td>\n",
       "      <td>ACIR GURGACZ</td>\n",
       "      <td>divulgação da atividade parlamentar</td>\n",
       "      <td>08.941.827/0001-01</td>\n",
       "      <td>RONDONIA DINÂMICA COM. E SERV. DE INFORMÁTICA ...</td>\n",
       "      <td>000000000001772/A</td>\n",
       "      <td>2022-01-17</td>\n",
       "      <td>divulgação da atividade parlamentar</td>\n",
       "      <td>2000</td>\n",
       "      <td>2173617</td>\n",
       "    </tr>\n",
       "  </tbody>\n",
       "</table>\n",
       "</div>"
      ],
      "text/plain": [
       "   MES       SENADOR                                       TIPO_DESPESA  \\\n",
       "0    1  ACIR GURGACZ  aluguel de imóveis para escritório político, c...   \n",
       "1    1  ACIR GURGACZ                divulgação da atividade parlamentar   \n",
       "2    1  ACIR GURGACZ                divulgação da atividade parlamentar   \n",
       "3    1  ACIR GURGACZ                divulgação da atividade parlamentar   \n",
       "4    1  ACIR GURGACZ                divulgação da atividade parlamentar   \n",
       "\n",
       "             CNPJ_CPF                                         FORNECEDOR  \\\n",
       "0      004.948.028-63                      GILBERTO PISELO DO NASCIMENTO   \n",
       "1  26.320.603/0001-64                                      INFORMANAHORA   \n",
       "2  13.659.201/0001-47                    LINHA PURPURA FOTO E VIDEO LTDA   \n",
       "3  23.652.846/0001-01                  ROBERTO GUTIERREZ DA ROCHA M.E.I.   \n",
       "4  08.941.827/0001-01  RONDONIA DINÂMICA COM. E SERV. DE INFORMÁTICA ...   \n",
       "\n",
       "           DOCUMENTO       DATA  \\\n",
       "0             001/22 2022-01-03   \n",
       "1  000000000000310/A 2022-01-04   \n",
       "2                107 2022-01-14   \n",
       "3                187 2022-01-18   \n",
       "4  000000000001772/A 2022-01-17   \n",
       "\n",
       "                                        DETALHAMENTO VALOR_REEMBOLSADO  \\\n",
       "0  despesa com pagamento de aluguel de imóvel par...              6000   \n",
       "1  despesa com divulgação da atividade parlamenta...              1500   \n",
       "2  despesa com produção de texto e edição de víde...              6000   \n",
       "3                divulgação da atividade parlamentar              1000   \n",
       "4                divulgação da atividade parlamentar              2000   \n",
       "\n",
       "   COD_DOCUMENTO  \n",
       "0        2173614  \n",
       "1        2173615  \n",
       "2        2173616  \n",
       "3        2173618  \n",
       "4        2173617  "
      ]
     },
     "execution_count": 44,
     "metadata": {},
     "output_type": "execute_result"
    }
   ],
   "source": [
    "datasheet.head()"
   ]
  },
  {
   "cell_type": "code",
   "execution_count": 46,
   "metadata": {},
   "outputs": [],
   "source": [
    "datasheet.to_csv('dados_limpos.csv', index = False)"
   ]
  },
  {
   "cell_type": "code",
   "execution_count": null,
   "metadata": {},
   "outputs": [],
   "source": []
  }
 ],
 "metadata": {
  "kernelspec": {
   "display_name": "Python 3",
   "language": "python",
   "name": "python3"
  },
  "language_info": {
   "codemirror_mode": {
    "name": "ipython",
    "version": 3
   },
   "file_extension": ".py",
   "mimetype": "text/x-python",
   "name": "python",
   "nbconvert_exporter": "python",
   "pygments_lexer": "ipython3",
   "version": "3.11.4"
  },
  "orig_nbformat": 4
 },
 "nbformat": 4,
 "nbformat_minor": 2
}
